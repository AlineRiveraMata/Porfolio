{
  "nbformat": 4,
  "nbformat_minor": 0,
  "metadata": {
    "colab": {
      "provenance": []
    },
    "kernelspec": {
      "display_name": "Python 3",
      "name": "python3"
    }
  },
  "cells": [
    {
      "cell_type": "markdown",
      "metadata": {
        "id": "mqV1PclVDm0w"
      },
      "source": [
        "#        FINANCIAL DATA INFRASTRUCTURE     \n",
        "##                    Rennes School of Business\n",
        "##                     Group Project SQL and pysql\n",
        "####       LendingClub | Peer-to-Peer Lending & Alternative Investing\n",
        "                                        Winter 2023\n",
        "\n",
        "\n",
        "Learning objectives\n",
        "\n",
        "\n",
        "*   Write and build queries.\n",
        "*   Filter data given various criteria.\n",
        "*   Sort the results of a query. \n",
        "\n",
        "\n",
        "\n",
        "\n",
        "The following Paython code is Filter data given various criteria from a big data set of LendingClub.\n",
        "This is a Peer-to-Peer Lending and Alternative Investing business. LendingClub is a US peer-to-peer lending company, headquartered in San Francisco, California. It was the first peer-to-peer lender to register its offerings as securities with the Securities and Exchange Commission (SEC), and to offer loan trading on a secondary market. LendingClub is the world's largest peer-to-peer lending platform. LendingClub enables borrowers to create unsecured personal loans between 1,000 and 40,000 dollars. The standard loan period is three years. Investors can search and browse the loan listings on LendingClub website and select loans that they want to invest in based on the information supplied about the borrower, amount of loan, loan grade, and loan purpose. Investors make money from interest. LendingClub makes money by charging borrowers an origination fee and investors a service fee.The dataset contain complete loan data for all loans issued through the 2007-2015, including the current loan status (Current, Late, Fully Paid, etc.) and latest payment information. Additional features include credit scores, number of finance inquiries, address including zip codes, and state, and collections among others. Each row is divided by an individual loan id and member id, of course, for the interest of privacy each member id has been removed from the dataset. \n",
        "\n",
        "\n",
        "For this task is to identify the most important variables to explain default of loans. To do this you need to develope several queries to extract information from a dataset of loan lending club. You can find information about dataset from LCDataDictionary.csv file uploaded to moodle.\n",
        "Please use this website for hints about wrting SQL\n",
        "\n",
        "http://lgatto.github.io/sql-ecology/01-sql-basic-queries.html\n",
        "\n",
        "\n",
        "Report\n",
        "\n",
        "For this task, you need to pick seed number for sampling of data accourding to your group number, and forecast the news labes. \n",
        "\n",
        "\n",
        "##Students name \t  Student No.\t      \n",
        "#### 1. Carlos Mantilla Villamil ETU20221361\n",
        "#### 2. Manon Castanet ETU20191666\n",
        "#### 3. Aline Rivera Mata ETU20220727\n",
        "#### 4. Isabela Encina Moreno ETU20221075\n",
        "#### 5. Pedro Trillos Toro ETU20220847\n",
        "\n",
        "##Group: 3\n",
        "\n",
        "##To hand in\n",
        "###Guidelines for report layout\n",
        "\n",
        " Report your results with Python code in this nootbook file. Please explain the result in details. Reporting codes and graphs without explainations is not enough.\n",
        "\n",
        "•\tName your report: GroupNo, upload word format file to Turnitin on Moodle.\n",
        "•\tThe assignment counts for 5% of the module grade.\n",
        "•\tThe Rennes School of Business policy is to not give grades for continuous assessment during the term, so you will only receive your grade when you get the overall module grade.\n",
        "\n",
        "#Deadline for reporting is 2023.\n",
        "\n",
        "##Grading\n",
        "\n",
        "The project will be graded from zero to 5, and a minimum of 10 points are required to pass the project. Higher scores will yield higher grades. The clarity and quality of motivations and comments play an important role in the grading.\n",
        "\n",
        "##Plagiarism Warning \n",
        "Plagiarism is defined as direct copying of textual material of other people’s work, and presenting them as one’s own without acknowledgement.\n",
        "No student shall represent the work of another person as his own in any academic assignment.\n",
        "Plagiarism is a very serious offence. There are clear university rules as well as severe penalties for plagiarism at Rennes School of Business. \n",
        "\n",
        "Plagiarism Declaration\n",
        "\n",
        "We, Carlos, Manon, Isabela, Aline, and Pedro, hereby declare that we created this piece of work by ourselves, only with the sources stated above and without further aid. we consent to a plagiarism check of this work by conventional and electronic means (digitalization and automatized check by software). "
      ]
    },
    {
      "cell_type": "markdown",
      "metadata": {
        "id": "1LLNP79f7sy4"
      },
      "source": [
        "\\The dataset contain complete loan data for all loans issued through the 2007-2015, including the current loan status (Current, Late, Fully Paid, etc.) and latest payment information. Additional features include credit scores, number of finance inquiries, address including zip codes, and state, and collections among others. Each row is divided by an individual loan id and member id, of course, for the interest of privacy each member id has been removed from the dataset. \n",
        "\n",
        "* loan_status: \n",
        "* loan_amnt: The listed amount of the loan applied for by the borrower. If at some point in time, the credit department reduces the loan amount, then it will be reflected in this value.\n",
        "* funded_amnt: The total amount funded by investors for that loan at that point in time.\n",
        "* term: The Number of payments on the loan. Values are in months and can be either 36 or 60.\n",
        "* grade: LC assigned loan grade\n",
        "* sub_grade: LC assigned loan subgrade\n",
        "* home_ownership: The home ownership status provided by the borrower during registration or obtained from the credit report. Our values are: RENT, OWN, MORTGAGE, OTHER\n",
        "* verification_status: The status of the loan during the listing period. Values: APPROVED, NOT_APPROVED.\n",
        "* purpose: A category provided by the borrower for the loan request. Values are: debt_consolidation, medical, home_improvement, renewable_energy, small_business, wedding, vacation, moving, house, car, major_purchase, credit_card, other\n",
        "* emp_length: Employment length in months. Possible values are whole numbers from 0 and higher. Null indicates not employed.\n",
        "* int_rate: Interest Rate on the loan\n",
        "* annual_inc: The annual income provided by the borrower during registration.\n",
        "* dti: The borrower's debt to income ratio, calculated using the monthly payments on the total debt obligations, excluding mortgage, divided by self-reported monthly income.\n",
        "* inq_last_6mths: information from the bureau last 6 months\n",
        "* pub_rec: it indicates risk and hurts your ability to qualify for credit, obligations that were not paid \n",
        "* revol_bal: sometimes a full payment doesn’t (or can’t) happen, The amount of credit you have versus the amount of credit you use is a factor in your credit score\n",
        "* revol_util: the amount of credit the borrower is using relative to all available revolving credit.\n",
        "* total_acc: The total Number of credit lines currently in the borrower's credit file\n",
        "* total_pymnt: The total payment currently\n",
        "* total_pymnt_inv: The total payment currently of investment\n",
        "* total_rec_prncp: \n",
        "* total_rec_int:  interest of recollect total."
      ]
    },
    {
      "cell_type": "markdown",
      "metadata": {
        "id": "FhWHq2aaQlB3"
      },
      "source": [
        "### Running Pyspark in Colab\n",
        "\n",
        "To run spark in Colab, we need to first install all the dependencies in Colab environment i.e. Apache Spark 2.3.2 with hadoop 2.7, Java 8 and Findspark to locate the spark in the system. The tools installation can be carried out inside the Jupyter Notebook of the Colab. One important note is that if you are new in Spark, it is better to avoid Spark 2.4.0 version since some people have already complained about its compatibility issue with python. \n",
        "Follow the steps to install the dependencies:"
      ]
    },
    {
      "cell_type": "code",
      "metadata": {
        "id": "Au52f6-uG6pL",
        "colab": {
          "base_uri": "https://localhost:8080/"
        },
        "outputId": "c7651141-001a-4db5-9379-9c46cb9edcb2"
      },
      "source": [
        "import os\n",
        "\n",
        "# Install java\n",
        "! apt-get update -qq\n",
        "! apt-get install -y openjdk-8-jdk-headless -qq > /dev/null\n",
        "\n",
        "os.environ[\"JAVA_HOME\"] = \"/usr/lib/jvm/java-8-openjdk-amd64\"\n",
        "os.environ[\"PATH\"] = os.environ[\"JAVA_HOME\"] + \"/bin:\" + os.environ[\"PATH\"]\n",
        "! java -version\n",
        "\n",
        "# Install pyspark\n",
        "!pip install --upgrade pyspark"
      ],
      "execution_count": null,
      "outputs": [
        {
          "output_type": "stream",
          "name": "stdout",
          "text": [
            "openjdk version \"1.8.0_362\"\n",
            "OpenJDK Runtime Environment (build 1.8.0_362-8u362-ga-0ubuntu1~20.04.1-b09)\n",
            "OpenJDK 64-Bit Server VM (build 25.362-b09, mixed mode)\n",
            "Looking in indexes: https://pypi.org/simple, https://us-python.pkg.dev/colab-wheels/public/simple/\n",
            "Collecting pyspark\n",
            "  Downloading pyspark-3.3.2.tar.gz (281.4 MB)\n",
            "\u001b[2K     \u001b[90m━━━━━━━━━━━━━━━━━━━━━━━━━━━━━━━━━━━━━━━\u001b[0m \u001b[32m281.4/281.4 MB\u001b[0m \u001b[31m2.0 MB/s\u001b[0m eta \u001b[36m0:00:00\u001b[0m\n",
            "\u001b[?25h  Preparing metadata (setup.py) ... \u001b[?25l\u001b[?25hdone\n",
            "Collecting py4j==0.10.9.5\n",
            "  Downloading py4j-0.10.9.5-py2.py3-none-any.whl (199 kB)\n",
            "\u001b[2K     \u001b[90m━━━━━━━━━━━━━━━━━━━━━━━━━━━━━━━━━━━━━━\u001b[0m \u001b[32m199.7/199.7 KB\u001b[0m \u001b[31m22.6 MB/s\u001b[0m eta \u001b[36m0:00:00\u001b[0m\n",
            "\u001b[?25hBuilding wheels for collected packages: pyspark\n",
            "  Building wheel for pyspark (setup.py) ... \u001b[?25l\u001b[?25hdone\n",
            "  Created wheel for pyspark: filename=pyspark-3.3.2-py2.py3-none-any.whl size=281824028 sha256=4873b3ad77f4b5317210550f1ddae7a4f95b7f72af227e993245702648847555\n",
            "  Stored in directory: /root/.cache/pip/wheels/6c/e3/9b/0525ce8a69478916513509d43693511463c6468db0de237c86\n",
            "Successfully built pyspark\n",
            "Installing collected packages: py4j, pyspark\n",
            "  Attempting uninstall: py4j\n",
            "    Found existing installation: py4j 0.10.9.7\n",
            "    Uninstalling py4j-0.10.9.7:\n",
            "      Successfully uninstalled py4j-0.10.9.7\n",
            "Successfully installed py4j-0.10.9.5 pyspark-3.3.2\n"
          ]
        }
      ]
    },
    {
      "cell_type": "code",
      "metadata": {
        "id": "pDKbzk_PdTPq"
      },
      "source": [
        "from pyspark.sql import SparkSession\n",
        "from pyspark.sql import functions as F\n",
        "from pyspark.sql.types import *\n",
        "from pyspark.sql import *\n",
        "\n",
        "import pandas as pd\n",
        "import numpy as np\n",
        "import sklearn\n",
        "from scipy import stats\n",
        "import matplotlib.pyplot as plt\n",
        "import os\n",
        "import seaborn as sns"
      ],
      "execution_count": null,
      "outputs": []
    },
    {
      "cell_type": "code",
      "metadata": {
        "id": "JwlzkFT3HrF5"
      },
      "source": [
        "spark = SparkSession.builder\\\n",
        "        .master(\"local\")\\\n",
        "        .appName(\"Colab\")\\\n",
        "        .config('spark.ui.port', '4050')\\\n",
        "        .getOrCreate()\n",
        "\n",
        "from pyspark.sql import SparkSession\n",
        "spark = SparkSession.builder.master(\"local[*]\").getOrCreate()\n",
        "from pyspark.sql import functions as F\n",
        "from pyspark.sql.types import *\n",
        "from pyspark.sql import *"
      ],
      "execution_count": null,
      "outputs": []
    },
    {
      "cell_type": "code",
      "metadata": {
        "id": "XM36IdwhASRT",
        "colab": {
          "base_uri": "https://localhost:8080/"
        },
        "outputId": "692047e1-d929-4c61-bd50-357ba159ff4c"
      },
      "source": [
        "# Import csv files Survey and species to Spark \n",
        "## It will take a long time to upload data\n",
        "\n",
        "df_lending_club_loans = spark.read.format(\"csv\").options(header='true', delimiter = ',').load(\"Lending Club Loan Data_Lending Club - loan_Class.csv\")\n",
        "# print structure of data\n",
        "df_lending_club_loans.printSchema()\n",
        "print(df_lending_club_loans.count())"
      ],
      "execution_count": null,
      "outputs": [
        {
          "output_type": "stream",
          "name": "stdout",
          "text": [
            "root\n",
            " |-- id: string (nullable = true)\n",
            " |-- member_id: string (nullable = true)\n",
            " |-- loan_amnt: string (nullable = true)\n",
            " |-- funded_amnt: string (nullable = true)\n",
            " |-- funded_amnt_inv: string (nullable = true)\n",
            " |-- term: string (nullable = true)\n",
            " |-- int_rate: string (nullable = true)\n",
            " |-- installment: string (nullable = true)\n",
            " |-- grade: string (nullable = true)\n",
            " |-- sub_grade: string (nullable = true)\n",
            " |-- emp_length: string (nullable = true)\n",
            " |-- home_ownership: string (nullable = true)\n",
            " |-- annual_inc: string (nullable = true)\n",
            " |-- verification_status: string (nullable = true)\n",
            " |-- issue_d: string (nullable = true)\n",
            " |-- loan_status: string (nullable = true)\n",
            " |-- zip_code: string (nullable = true)\n",
            " |-- addr_state: string (nullable = true)\n",
            " |-- dti: string (nullable = true)\n",
            " |-- delinq_2yrs: string (nullable = true)\n",
            " |-- earliest_cr_line: string (nullable = true)\n",
            " |-- inq_last_6mths: string (nullable = true)\n",
            " |-- mths_since_last_delinq: string (nullable = true)\n",
            " |-- open_acc: string (nullable = true)\n",
            " |-- pub_rec: string (nullable = true)\n",
            " |-- revol_bal: string (nullable = true)\n",
            " |-- revol_util: string (nullable = true)\n",
            " |-- total_acc: string (nullable = true)\n",
            " |-- initial_list_status: string (nullable = true)\n",
            " |-- out_prncp: string (nullable = true)\n",
            " |-- out_prncp_inv: string (nullable = true)\n",
            " |-- total_pymnt: string (nullable = true)\n",
            " |-- total_pymnt_inv: string (nullable = true)\n",
            " |-- total_rec_prncp: string (nullable = true)\n",
            " |-- total_rec_int: string (nullable = true)\n",
            " |-- total_rec_late_fee: string (nullable = true)\n",
            " |-- recoveries: string (nullable = true)\n",
            " |-- collection_recovery_fee: string (nullable = true)\n",
            " |-- last_pymnt_d: string (nullable = true)\n",
            " |-- last_pymnt_amnt: string (nullable = true)\n",
            " |-- next_pymnt_d: string (nullable = true)\n",
            " |-- last_credit_pull_d: string (nullable = true)\n",
            " |-- collections_12_mths_ex_med: string (nullable = true)\n",
            " |-- mths_since_last_major_derog: string (nullable = true)\n",
            " |-- policy_code: string (nullable = true)\n",
            " |-- acc_now_delinq: string (nullable = true)\n",
            " |-- _c46: string (nullable = true)\n",
            " |-- _c47: string (nullable = true)\n",
            " |-- _c48: string (nullable = true)\n",
            "\n",
            "887381\n"
          ]
        }
      ]
    },
    {
      "cell_type": "code",
      "metadata": {
        "id": "M58TAx9_r0Nj"
      },
      "source": [
        "## Create a view to work with data\n",
        "df_lending_club_loans.createOrReplaceTempView(\"club_loans\")"
      ],
      "execution_count": null,
      "outputs": []
    },
    {
      "cell_type": "code",
      "metadata": {
        "id": "DWauTULBr0Hw",
        "colab": {
          "base_uri": "https://localhost:8080/"
        },
        "outputId": "5a3dcbd3-c746-4f86-88f4-c263daeb43d4"
      },
      "source": [
        "# Check first five observations of club_loans\n",
        "spark.sql(\"select * from club_loans\").show(n=5)"
      ],
      "execution_count": null,
      "outputs": [
        {
          "output_type": "stream",
          "name": "stdout",
          "text": [
            "+-------+---------+---------+-----------+---------------+----------+--------+-----------+-----+---------+----------+--------------+----------+-------------------+-------+-----------+--------+----------+-----+-----------+----------------+--------------+----------------------+--------+-------+---------+----------+---------+-------------------+---------+-------------+-----------+---------------+---------------+-------------+------------------+----------+-----------------------+------------+---------------+------------+------------------+--------------------------+---------------------------+-----------+--------------+----+----+----+\n",
            "|     id|member_id|loan_amnt|funded_amnt|funded_amnt_inv|      term|int_rate|installment|grade|sub_grade|emp_length|home_ownership|annual_inc|verification_status|issue_d|loan_status|zip_code|addr_state|  dti|delinq_2yrs|earliest_cr_line|inq_last_6mths|mths_since_last_delinq|open_acc|pub_rec|revol_bal|revol_util|total_acc|initial_list_status|out_prncp|out_prncp_inv|total_pymnt|total_pymnt_inv|total_rec_prncp|total_rec_int|total_rec_late_fee|recoveries|collection_recovery_fee|last_pymnt_d|last_pymnt_amnt|next_pymnt_d|last_credit_pull_d|collections_12_mths_ex_med|mths_since_last_major_derog|policy_code|acc_now_delinq|_c46|_c47|_c48|\n",
            "+-------+---------+---------+-----------+---------------+----------+--------+-----------+-----+---------+----------+--------------+----------+-------------------+-------+-----------+--------+----------+-----+-----------+----------------+--------------+----------------------+--------+-------+---------+----------+---------+-------------------+---------+-------------+-----------+---------------+---------------+-------------+------------------+----------+-----------------------+------------+---------------+------------+------------------+--------------------------+---------------------------+-----------+--------------+----+----+----+\n",
            "|1077501|  1296599|     5000|       5000|           4975| 36 months|   10.65|     162.87|    B|       B2| 10+ years|          RENT|     24000|           Verified| 11-Dec| Fully Paid|   860xx|        AZ|27.65|          0|          Jan-85|             1|                  null|       3|      0|    13648|      83.7|        9|                  f|        0|            0|5861.071414|        5831.78|           5000|       861.07|                 0|         0|                      0|      15-Jan|         171.62|        null|            16-Jan|                         0|                       null|          1|             0|null|null|null|\n",
            "|1077430|  1314167|     2500|       2500|           2500| 60 months|   15.27|      59.83|    C|       C4|  < 1 year|          RENT|     30000|    Source Verified| 11-Dec|Charged Off|   309xx|        GA|    1|          0|          Apr-99|             5|                  null|       3|      0|     1687|       9.4|        4|                  f|        0|            0|    1008.71|        1008.71|         456.46|       435.17|                 0|    117.08|                   1.11|      13-Apr|         119.66|        null|            13-Sep|                         0|                       null|          1|             0|null|null|null|\n",
            "|1077175|  1313524|     2400|       2400|           2400| 36 months|   15.96|      84.33|    C|       C5| 10+ years|          RENT|     12252|       Not Verified| 11-Dec| Fully Paid|   606xx|        IL| 8.72|          0|           1-Nov|             2|                  null|       2|      0|     2956|      98.5|       10|                  f|        0|            0|3003.653644|        3003.65|           2400|       603.65|                 0|         0|                      0|      14-Jun|         649.91|        null|            16-Jan|                         0|                       null|          1|             0|null|null|null|\n",
            "|1076863|  1277178|    10000|      10000|          10000| 36 months|   13.49|     339.31|    C|       C1| 10+ years|          RENT|     49200|    Source Verified| 11-Dec| Fully Paid|   917xx|        CA|   20|          0|          Feb-96|             1|                    35|      10|      0|     5598|        21|       37|                  f|        0|            0|12226.30221|        12226.3|          10000|      2209.33|             16.97|         0|                      0|      15-Jan|         357.48|        null|            15-Jan|                         0|                       null|          1|             0|null|null|null|\n",
            "|1075358|  1311748|     3000|       3000|           3000| 60 months|   12.69|      67.79|    B|       B5|    1 year|          RENT|     80000|    Source Verified| 11-Dec|    Current|   972xx|        OR|17.94|          0|          Jan-96|             0|                    38|      15|      0|    27783|      53.9|       38|                  f|    766.9|        766.9|    3242.17|        3242.17|         2233.1|      1009.07|                 0|         0|                      0|      16-Jan|          67.79|      16-Feb|            16-Jan|                         0|                       null|          1|             0|null|null|null|\n",
            "+-------+---------+---------+-----------+---------------+----------+--------+-----------+-----+---------+----------+--------------+----------+-------------------+-------+-----------+--------+----------+-----+-----------+----------------+--------------+----------------------+--------+-------+---------+----------+---------+-------------------+---------+-------------+-----------+---------------+---------------+-------------+------------------+----------+-----------------------+------------+---------------+------------+------------------+--------------------------+---------------------------+-----------+--------------+----+----+----+\n",
            "only showing top 5 rows\n",
            "\n"
          ]
        }
      ]
    },
    {
      "cell_type": "code",
      "metadata": {
        "id": "SgUaGaD5wPLx",
        "colab": {
          "base_uri": "https://localhost:8080/"
        },
        "outputId": "aa73e070-d254-4411-dbc3-fa70f774b37e"
      },
      "source": [
        "# Count number of loans by grouping loan_status\n",
        "# Question 1: Explain your findings (You can focus on Default)\n",
        "spark.sql(\"SELECT loan_status, COUNT(*) FROM club_loans GROUP BY loan_status ORDER BY loan_status\").show()"
      ],
      "execution_count": null,
      "outputs": [
        {
          "output_type": "stream",
          "name": "stdout",
          "text": [
            "+--------------------+--------+\n",
            "|         loan_status|count(1)|\n",
            "+--------------------+--------+\n",
            "|                null|       1|\n",
            "|                   0|       1|\n",
            "|         Charged Off|   45248|\n",
            "|             Current|  601779|\n",
            "|             Default|    1219|\n",
            "|Does not meet the...|     761|\n",
            "|Does not meet the...|    1988|\n",
            "|          Fully Paid|  207723|\n",
            "|     In Grace Period|    6253|\n",
            "|              Issued|    8460|\n",
            "|   Late (16-30 days)|    2357|\n",
            "|  Late (31-120 days)|   11591|\n",
            "+--------------------+--------+\n",
            "\n"
          ]
        }
      ]
    },
    {
      "cell_type": "markdown",
      "source": [
        "## **Question 1:** Explain your findings (You can focus on default)\n",
        "The previous chart represents the count of loans for each loan status in our dataset. \n",
        "\n",
        "It is possible to see that 45,248 were charged off, meaning that the issuer wrote them off as a loss as they were unlikely to be collected. \n",
        "\n",
        "We can also see that there are 601,779 loans that are being paid for according to the agreed upon schedule and conditions. \n",
        "\n",
        "There are 1,219 loans that were completely unpaid for (defaulted). \n",
        "\n",
        "In total, there are 2,749 loans that did not meet the agreed upon credit policies established when the loan was written. \n",
        "\n",
        "We also find 207,723 loans that have been paid for in full. \n",
        "\n",
        "There are 6,253 loans that are in grace period, meaning that the borrower still has a little extra time to pay his debt past the due date. \n",
        "\n",
        "Past the grace period, there are 2,357 loans that are between 16 to 30 days late and 11,591 loans that are between 31 and 120 days late.\n",
        "\n",
        "Focusing on the defaulted loans, it is possible to compare them with the fully paid for loans and establish that out of the 602,998 loans that are not outstanding, only 0.20% have been in default. In the banking industry, keeping defaulted loans to a minimum is a key goal. Therefore, we are able to say the lenders are doing a good job by having only 1,219 non-outstanding defaulted loans."
      ],
      "metadata": {
        "id": "oL1pD0X9FdKB"
      }
    },
    {
      "cell_type": "code",
      "source": [
        " # Create bar chart of  loan_status\n",
        " loan_statusgroup =spark.sql(\"select loan_status, count(*)\\\n",
        " from club_loans group by loan_status order by loan_status\").toPandas()\n",
        "s2 = sns.barplot(x=loan_statusgroup['loan_status'], y=loan_statusgroup[\"count(1)\"], capsize=.2)\n",
        "s2.set_xticklabels(s2.get_xticklabels(),rotation=90)"
      ],
      "metadata": {
        "id": "cuANlbon3Nnt",
        "colab": {
          "base_uri": "https://localhost:8080/",
          "height": 985
        },
        "outputId": "fba38126-b2fa-404d-9ebf-b1134e7ecfeb"
      },
      "execution_count": null,
      "outputs": [
        {
          "output_type": "execute_result",
          "data": {
            "text/plain": [
              "[Text(0, 0, '0'),\n",
              " Text(1, 0, 'Charged Off'),\n",
              " Text(2, 0, 'Current'),\n",
              " Text(3, 0, 'Default'),\n",
              " Text(4, 0, 'Does not meet the credit policy. Status:Charged Off'),\n",
              " Text(5, 0, 'Does not meet the credit policy. Status:Fully Paid'),\n",
              " Text(6, 0, 'Fully Paid'),\n",
              " Text(7, 0, 'In Grace Period'),\n",
              " Text(8, 0, 'Issued'),\n",
              " Text(9, 0, 'Late (16-30 days)'),\n",
              " Text(10, 0, 'Late (31-120 days)')]"
            ]
          },
          "metadata": {},
          "execution_count": 9
        },
        {
          "output_type": "display_data",
          "data": {
            "text/plain": [
              "<Figure size 640x480 with 1 Axes>"
            ],
            "image/png": "[encoded data removed]"
          },
          "metadata": {}
        }
      ]
    },
    {
      "cell_type": "code",
      "metadata": {
        "id": "gWoxDv8mSutC",
        "colab": {
          "base_uri": "https://localhost:8080/"
        },
        "outputId": "03fa6c5f-b1a1-4522-bf16-39a2513bfe7f"
      },
      "source": [
        "# Group data by grade\n",
        "#The credit rating of the customers is given by grade variable. The Lending Club divides customers' \n",
        "#credit rating into 7 categories, e.g. A to G. The customers with a credit rating of A\n",
        "#have the highest credit scores. The customers with a credit rating of G have the lowest ones. The customers with a high\n",
        "#credit rating are less likely to default.\n",
        "## Question 2: Explain your findings\n",
        "\n",
        "print('Grades')\n",
        "spark.sql(\"select grade, count(*)\\\n",
        " from club_loans group by grade order by count(*) DESC\").show(7)\n",
        " \n",
        "# Group data by sub_grade\n",
        "print('Sub-Grades')\n",
        "spark.sql(\"select sub_grade, count(*)\\\n",
        " from club_loans group by sub_grade order by count(*) DESC\").show(35)"
      ],
      "execution_count": null,
      "outputs": [
        {
          "output_type": "stream",
          "name": "stdout",
          "text": [
            "Grades\n",
            "+-----+--------+\n",
            "|grade|count(1)|\n",
            "+-----+--------+\n",
            "|    B|  254535|\n",
            "|    C|  245860|\n",
            "|    A|  148202|\n",
            "|    D|  139542|\n",
            "|    E|   70705|\n",
            "|    F|   23046|\n",
            "|    G|    5489|\n",
            "+-----+--------+\n",
            "only showing top 7 rows\n",
            "\n",
            "Sub-Grades\n",
            "+---------+--------+\n",
            "|sub_grade|count(1)|\n",
            "+---------+--------+\n",
            "|       B3|   56323|\n",
            "|       B4|   55626|\n",
            "|       C1|   53387|\n",
            "|       C2|   52236|\n",
            "|       C3|   50161|\n",
            "|       C4|   48857|\n",
            "|       B5|   48833|\n",
            "|       B2|   48781|\n",
            "|       B1|   44972|\n",
            "|       A5|   44816|\n",
            "|       C5|   41219|\n",
            "|       D1|   36238|\n",
            "|       A4|   34531|\n",
            "|       D2|   29803|\n",
            "|       D3|   26554|\n",
            "|       D4|   25558|\n",
            "|       A3|   23457|\n",
            "|       A1|   22913|\n",
            "|       A2|   22485|\n",
            "|       D5|   21389|\n",
            "|       E1|   18268|\n",
            "|       E2|   17004|\n",
            "|       E3|   14134|\n",
            "|       E4|   11724|\n",
            "|       E5|    9575|\n",
            "|       F1|    7218|\n",
            "|       F2|    5392|\n",
            "|       F3|    4433|\n",
            "|       F4|    3409|\n",
            "|       F5|    2594|\n",
            "|       G1|    1871|\n",
            "|       G2|    1398|\n",
            "|       G3|     981|\n",
            "|       G4|     663|\n",
            "|       G5|     576|\n",
            "+---------+--------+\n",
            "only showing top 35 rows\n",
            "\n"
          ]
        }
      ]
    },
    {
      "cell_type": "markdown",
      "source": [
        "## **Question 2.1:** Explain your findings\n",
        "\n",
        "The first table above shows the quantity of loans that are categorized in each of the seven different grades. They are ordered according to the quantities in descending order. It is possible to see that in the whole dataset, the grade that contains the most loans is grade B (254,535). This is the second less risky grade given to a borrower's credit. Except for grade A, the rest of the ratings follow the order of the alphabet and, therefore, of risk. This means that, excluding A, as credit risk increases, the quantity of loans issued decreases. This is consistent with the theory. Not a lot of financial entities are willing to issue loans to people who are very likely to default; they need to have a great degree of risk-loving to issue loans like these, although it is true that the return can be expected to be greater (mainly because of higher interest rates) if they do not default.\n",
        "\n",
        "The second table represents the same but for the case of sub-grades. The order is very similar; as the risk increases, the quantitiy of issued loans decreases with the execption of sub-grades A1-A5 which are mostly intertwined with the D1-D5 subgrades. The same interpretation can be given to this as the one before. Lenders are less likely to issue the requested loans to people with a high level of credit risk."
      ],
      "metadata": {
        "id": "pR-Te0yUXM2q"
      }
    },
    {
      "cell_type": "code",
      "metadata": {
        "id": "rem9kXLE8FcT",
        "colab": {
          "base_uri": "https://localhost:8080/"
        },
        "outputId": "8f48275f-88e1-4b10-8a97-1b84e8bc83c6"
      },
      "source": [
        "# Question 2: Provide the statistical description of annual income\n",
        "spark.sql(\"SELECT count(*) AS count_0 FROM club_loans WHERE annual_inc = 0\").show()\n",
        "spark.sql(\"SELECT count(*) AS count_null FROM club_loans WHERE annual_inc IS NULL\").show()\n",
        "spark.sql(\"SELECT count(*),AVG(annual_inc),\\\n",
        "  VARIANCE(annual_inc), MIN(annual_inc), MAX(annual_inc),\\\n",
        "  (SELECT annual_inc\\\n",
        "  FROM (\\\n",
        "    SELECT annual_inc, ROW_NUMBER() OVER (ORDER BY annual_inc ASC) AS row_num\\\n",
        "    FROM club_loans\\\n",
        "  ) ranked_loans\\\n",
        "  WHERE row_num = 8) AS real_min_annual_inc,\\\n",
        "  PERCENTILE_CONT(0.5) WITHIN GROUP (ORDER BY annual_inc) AS median_annual_inc\\\n",
        "  FROM club_loans\").show()"
      ],
      "execution_count": null,
      "outputs": [
        {
          "output_type": "stream",
          "name": "stdout",
          "text": [
            "+-------+\n",
            "|count_0|\n",
            "+-------+\n",
            "|      2|\n",
            "+-------+\n",
            "\n",
            "+----------+\n",
            "|count_null|\n",
            "+----------+\n",
            "|         5|\n",
            "+----------+\n",
            "\n",
            "+--------+----------------+--------------------+---------------+---------------+-------------------+-----------------+\n",
            "|count(1)| avg(annual_inc)|variance(annual_inc)|min(annual_inc)|max(annual_inc)|real_min_annual_inc|median_annual_inc|\n",
            "+--------+----------------+--------------------+---------------+---------------+-------------------+-----------------+\n",
            "|  887381|75027.5032153336|4.1858716670809197E9|              0|         999999|              10000|          65000.0|\n",
            "+--------+----------------+--------------------+---------------+---------------+-------------------+-----------------+\n",
            "\n"
          ]
        }
      ]
    },
    {
      "cell_type": "markdown",
      "source": [
        "## **Question 2.2:** Provide the statistical description of annual income.\n",
        "\n",
        "In the previous table it is possible to see that in average, the annual income of the borrowers was 75,027.50 with a variance of 4.19. \n",
        "\n",
        "The borrower that made the the most money per year made 999,999.00, that is 83,333.33 per month.\n",
        "\n",
        "On the other hand, we obtained that the minimum anual income someone in the dataset was 0. However, after obtaining the count of rows with annual_inc = 0, we saw that these were outliers as from the 887,381 observations, only 2 had an annual income of 0. Due to this, we decided to not take into consideration those observations with zero annual income. We obtained again the minimum value and obtained null. This led us to see that our dataset had 5 rows with annual_inc = null. Therefore, we did not take those rows into account. This means the real minimum was in fact the 8th (5+2+1) minimum value. This is denoted as real_min_annual_inc in the table above. It shows us that the true minimum amount of money a borrower made per year was 10,000.00 dollars. This is, 833.33 dollars per month. The difference between the highest annual income and the lowest is therefore 989,999.00 dollars. This puts in evidence that we have a very diverse dataset in terms of annual incomes.\n",
        "\n",
        "Because of these 7 outliers we also decided to calculate the median of the annual incomes because the median is a measure of central tendency robust to outliers. The median will also disregard outliers in the highest values. We obtained that the median of annual income is 65,000.00 dollars. This differs from the average by 10,027.50 dollars."
      ],
      "metadata": {
        "id": "woNiGvXlbI7y"
      }
    },
    {
      "cell_type": "code",
      "metadata": {
        "id": "TU-LUbkOYtdF",
        "colab": {
          "base_uri": "https://localhost:8080/"
        },
        "outputId": "ce7f0db1-bf0f-4215-df29-a85a41d3fd59"
      },
      "source": [
        "## Question 3: Compare annual income variable with deflaut and non default status of the loan.\n",
        "\n",
        "print(\"All loans\")\n",
        "spark.sql(\"SELECT count(*), AVG(annual_inc), PERCENTILE_CONT(0.5) WITHIN GROUP (ORDER BY annual_inc) AS median_annual_inc, VARIANCE(annual_inc), MIN(annual_inc),\\\n",
        "  (SELECT annual_inc\\\n",
        "  FROM (\\\n",
        "    SELECT annual_inc, ROW_NUMBER() OVER (ORDER BY annual_inc ASC) AS row_num\\\n",
        "    FROM club_loans\\\n",
        "  ) ranked_loans\\\n",
        "  WHERE row_num = 8) AS real_min_annual_inc,\\\n",
        "  MAX(annual_inc)\\\n",
        "  FROM club_loans\").show()\n",
        "  \n",
        "print(\"Deflaut loans\")\n",
        "spark.sql(\"SELECT count(*),AVG(annual_inc), PERCENTILE_CONT(0.5) WITHIN GROUP (ORDER BY annual_inc) AS median_annual_inc,\\\n",
        "  VARIANCE(annual_inc), MIN(annual_inc), MAX(annual_inc)\\\n",
        "  FROM club_loans where loan_status = 'Default'\").show()\n",
        "  \n",
        "print(\"Not Deflaut loans\")\n",
        "spark.sql(\"SELECT count(*), AVG(annual_inc), PERCENTILE_CONT(0.5) WITHIN GROUP (ORDER BY annual_inc) AS median_annual_inc, VARIANCE(annual_inc), MIN(annual_inc),\\\n",
        "  (SELECT annual_inc\\\n",
        "  FROM (\\\n",
        "    SELECT annual_inc, ROW_NUMBER() OVER (ORDER BY annual_inc ASC) AS row_num\\\n",
        "    FROM club_loans\\\n",
        "  ) ranked_loans\\\n",
        "  WHERE row_num = 8) AS real_min_annual_inc,\\\n",
        "  MAX(annual_inc)\\\n",
        "  FROM club_loans WHERE loan_status != 'Default'\").show()"
      ],
      "execution_count": null,
      "outputs": [
        {
          "output_type": "stream",
          "name": "stdout",
          "text": [
            "All loans\n",
            "+--------+----------------+-----------------+--------------------+---------------+-------------------+---------------+\n",
            "|count(1)| avg(annual_inc)|median_annual_inc|variance(annual_inc)|min(annual_inc)|real_min_annual_inc|max(annual_inc)|\n",
            "+--------+----------------+-----------------+--------------------+---------------+-------------------+---------------+\n",
            "|  887381|75027.5032153336|          65000.0|4.1858716670809197E9|              0|              10000|         999999|\n",
            "+--------+----------------+-----------------+--------------------+---------------+-------------------+---------------+\n",
            "\n",
            "Deflaut loans\n",
            "+--------+-----------------+-----------------+--------------------+---------------+---------------+\n",
            "|count(1)|  avg(annual_inc)|median_annual_inc|variance(annual_inc)|min(annual_inc)|max(annual_inc)|\n",
            "+--------+-----------------+-----------------+--------------------+---------------+---------------+\n",
            "|    1219|66754.12661197703|          56000.0| 2.781379266540549E9|          10000|          98600|\n",
            "+--------+-----------------+-----------------+--------------------+---------------+---------------+\n",
            "\n",
            "Not Deflaut loans\n",
            "+--------+-----------------+-----------------+--------------------+---------------+-------------------+---------------+\n",
            "|count(1)|  avg(annual_inc)|median_annual_inc|variance(annual_inc)|min(annual_inc)|real_min_annual_inc|max(annual_inc)|\n",
            "+--------+-----------------+-----------------+--------------------+---------------+-------------------+---------------+\n",
            "|  886161|75038.88409488372|          65000.0| 4.187712543628247E9|              0|              10000|         999999|\n",
            "+--------+-----------------+-----------------+--------------------+---------------+-------------------+---------------+\n",
            "\n"
          ]
        }
      ]
    },
    {
      "cell_type": "markdown",
      "source": [
        "## **Question 3:** Compare annual income variable with default and non default status of the loan\n",
        "\n",
        "*(Notice that, again, we disregarded the zeros and null values in the annual incomes)* \n",
        "\n",
        "The annual incomes across defaulted and non-defaulted loans are very diverse. Firstly, we see that there are 1,219 defaulted loans in our dataset while there are 886,161 loans that are not defaulted. This gives us a ratio of defaulted to non-defaulted of 0.0014. However, it is important to say that 678,438 loans out of those 886,161 non defaulted, are still outstainding. This means that there is still a chance that they default in the future as they have not been collected in fully yet. We have mentioned in Question 1 that only 0.20% of the non-outstanding loans have been in default.\n",
        "\n",
        "Now going into the annual incomes, we observe that for the defaulted loans, the minimum annual income of the borrowers was 10,000.00 dollars, while the maximum was 98,600.00 dollars. For the non-defaulted, on the other hand the true minimum was also 10,000.00 dollars, but the maximum was 999,999.00 dollars. We see an important difference of 901,399.00 dollars between the maximums. The average and median annual income were also lower for the defaulted loans than for the non-defaulted.\n",
        "\n",
        "Theory supports these findings by establishing that people with lower incomes are more likely to default in their loan payments than those with higher incomes due to the fact that annual income is a variable that affects repayment capacity. The higher the income of a borrower, the more likely it is that they will repay their loans in full."
      ],
      "metadata": {
        "id": "UjSW1Y9vbvQt"
      }
    },
    {
      "cell_type": "code",
      "metadata": {
        "id": "UN5K-Ob4Co9U",
        "colab": {
          "base_uri": "https://localhost:8080/"
        },
        "outputId": "2e0a5540-9738-4656-ba6a-5c53e5c60ec2"
      },
      "source": [
        "## Question 4: Compare amount of loan variable with deflaut and non default status of the loan.\n",
        "## Similar SQL code from pervious section\n",
        "\n",
        "print(\"All loans\")\n",
        "spark.sql(\"SELECT count(*), AVG(loan_amnt), PERCENTILE_CONT(0.5) WITHIN GROUP (ORDER BY loan_amnt) AS median_loan_amnt, VARIANCE(loan_amnt), MIN(loan_amnt),\\\n",
        "  (SELECT loan_amnt\\\n",
        "  FROM (\\\n",
        "    SELECT loan_amnt, ROW_NUMBER() OVER (ORDER BY loan_amnt ASC) AS row_num\\\n",
        "    FROM club_loans\\\n",
        "  ) ranked_loans\\\n",
        "  WHERE row_num = 8) AS real_min_loan_amnt,\\\n",
        "  MAX(loan_amnt)\\\n",
        "  FROM club_loans\").show()\n",
        "\n",
        "print(\"Deflaut loans\")\n",
        "spark.sql(\"SELECT count(*), AVG(loan_amnt), PERCENTILE_CONT(0.5) WITHIN GROUP (ORDER BY loan_amnt) AS median_loan_amnt, VARIANCE(loan_amnt), MIN(loan_amnt),\\\n",
        "  MAX(loan_amnt)\\\n",
        "  FROM club_loans where loan_status = 'Default'\").show()\n",
        "  \n",
        "print(\"Not Deflaut loans\")\n",
        "spark.sql(\"SELECT count(*), AVG(loan_amnt), PERCENTILE_CONT(0.5) WITHIN GROUP (ORDER BY loan_amnt) AS median_loan_amnt, VARIANCE(loan_amnt), MIN(loan_amnt),\\\n",
        "  (SELECT loan_amnt\\\n",
        "  FROM (\\\n",
        "    SELECT loan_amnt, ROW_NUMBER() OVER (ORDER BY loan_amnt ASC) AS row_num\\\n",
        "    FROM club_loans\\\n",
        "  ) ranked_loans\\\n",
        "  WHERE row_num = 8) AS real_min_loan_amnt,\\\n",
        "  MAX(loan_amnt)\\\n",
        "  FROM club_loans where loan_status != 'Default'\").show()"
      ],
      "execution_count": null,
      "outputs": [
        {
          "output_type": "stream",
          "name": "stdout",
          "text": [
            "All loans\n",
            "+--------+------------------+----------------+-------------------+--------------+------------------+--------------+\n",
            "|count(1)|    avg(loan_amnt)|median_loan_amnt|variance(loan_amnt)|min(loan_amnt)|real_min_loan_amnt|max(loan_amnt)|\n",
            "+--------+------------------+----------------+-------------------+--------------+------------------+--------------+\n",
            "|  887381|14755.247977191282|         13000.0|7.115707636244991E7|             0|              1000|          9975|\n",
            "+--------+------------------+----------------+-------------------+--------------+------------------+--------------+\n",
            "\n",
            "Deflaut loans\n",
            "+--------+------------------+----------------+-------------------+--------------+--------------+\n",
            "|count(1)|    avg(loan_amnt)|median_loan_amnt|variance(loan_amnt)|min(loan_amnt)|max(loan_amnt)|\n",
            "+--------+------------------+----------------+-------------------+--------------+--------------+\n",
            "|    1219|15193.847415914684|         13675.0|6.915519610477784E7|          1000|          9975|\n",
            "+--------+------------------+----------------+-------------------+--------------+--------------+\n",
            "\n",
            "Not Deflaut loans\n",
            "+--------+------------------+----------------+-------------------+--------------+------------------+--------------+\n",
            "|count(1)|    avg(loan_amnt)|median_loan_amnt|variance(loan_amnt)|min(loan_amnt)|real_min_loan_amnt|max(loan_amnt)|\n",
            "+--------+------------------+----------------+-------------------+--------------+------------------+--------------+\n",
            "|  886161|14754.644641323643|         13000.0| 7.11596431971869E7|             0|              1000|          9975|\n",
            "+--------+------------------+----------------+-------------------+--------------+------------------+--------------+\n",
            "\n"
          ]
        }
      ]
    },
    {
      "cell_type": "markdown",
      "source": [
        "## **Question 4:** Compare amount of loan variable with default and non default status of the loan.\n",
        "\n",
        "*(We ignored the loans that had a 0 and null loan_amount)*\n",
        "\n",
        "The previous tables show us how much were the requested loans worth (before being granted, the granted amount is called funded_amt), separating these values from defaulted and non-defaulted loans. The minimum and maximum loan amounts were the same for both the defaulted and non-defaulted loans (1,000 and 9,975 respectively). Since they have the same loan amount range, this would indicate that the loan amount could not offer a very good insight on whether a loan is expected to default or not.\n",
        "\n",
        "The medians and averages were also very similar among these two groups. The median indicates that the central value of the requested loans' worth was higher for those who defaulted (13,675.00 dollars) than for those who did not default (13,000.00 dollars). This is coherent with the theory because people who are in need of more money are more likely to not have the necessary means to repay a loan. Likewise, a high worth loan is more difficult to repay for any given person than a low worth one.\n",
        "\n",
        "As the values are very near to each other, we could expect to have difficulty in predicting which borrowers will default basing the predictions only on this criteria. loan_amnt could be useful, but it definitely requires to be accompained by other factors to have more accurate predictions."
      ],
      "metadata": {
        "id": "xm-Hu1c6b_GI"
      }
    },
    {
      "cell_type": "code",
      "metadata": {
        "id": "KcT-582hHF0f",
        "colab": {
          "base_uri": "https://localhost:8080/",
          "height": 776
        },
        "outputId": "7c4c6421-a9d1-4e9d-9e19-8f00e415fb88"
      },
      "source": [
        "# Compare risk garde of Default loans\n",
        "# Question 5: create the related barchart and Explain your finding\n",
        "spark.sql(\"select grade, count(*) from club_loans \\\n",
        "where loan_status = 'Default'  group by grade order by count(*) DESC\").show()\n",
        "default_grades = spark.sql(\"select grade, count(*) from club_loans \\\n",
        "where loan_status = 'Default'  group by grade order by count(*) DESC\")\n",
        "default_grades_pd = default_grades.toPandas()\n",
        "s5 = sns.barplot(x=default_grades_pd['grade'], y=default_grades_pd[\"count(1)\"], capsize=.2)\n",
        "s5.set_xticklabels(s5.get_xticklabels(),rotation=90)"
      ],
      "execution_count": null,
      "outputs": [
        {
          "output_type": "stream",
          "name": "stdout",
          "text": [
            "+-----+--------+\n",
            "|grade|count(1)|\n",
            "+-----+--------+\n",
            "|    C|     360|\n",
            "|    D|     312|\n",
            "|    E|     201|\n",
            "|    B|     198|\n",
            "|    F|      79|\n",
            "|    A|      47|\n",
            "|    G|      22|\n",
            "+-----+--------+\n",
            "\n"
          ]
        },
        {
          "output_type": "execute_result",
          "data": {
            "text/plain": [
              "[Text(0, 0, 'C'),\n",
              " Text(1, 0, 'D'),\n",
              " Text(2, 0, 'E'),\n",
              " Text(3, 0, 'B'),\n",
              " Text(4, 0, 'F'),\n",
              " Text(5, 0, 'A'),\n",
              " Text(6, 0, 'G')]"
            ]
          },
          "metadata": {},
          "execution_count": 16
        },
        {
          "output_type": "display_data",
          "data": {
            "text/plain": [
              "<Figure size 640x480 with 1 Axes>"
            ],
            "image/png": "[encoded data removed]"
          },
          "metadata": {}
        }
      ]
    },
    {
      "cell_type": "markdown",
      "source": [
        "##**Question 5:** Create the related barchart and explain your findings.\n",
        "\n",
        "The barchart above represents the count of defaulted loans per grade. It is possible to see that there were more grade C defaulted loans than any other class. There were 360 C-graded loans that defaulted. The following class that had the most defaulted loans was grade D with 312 defaulted loans. Following this, we found that grade E and B loans had almost the same number of defaulted loans, 201, and 198 respectively. Grade F loans had significantly less defaults, only 79. The numbers continued to drop for grade A and G with 47 and 22 defaulted loans respectively.\n",
        "\n",
        "Here are the percentace corresponding to each grade in terms of the total defaulted loans:\n",
        "\n",
        "**· Grade C:** 29.53%\n",
        "\n",
        "**· Grade D:** 25.59%\n",
        "\n",
        "**· Grade E:** 16.49%\n",
        "\n",
        "**· Grade B:** 16.24%\n",
        "\n",
        "**· Grade F:** 6.48%\n",
        "\n",
        "**· Grade A:** 3.86%\n",
        "\n",
        "**· Grade G:** 1.80%\n",
        "\n",
        "It makes sense to see that the most defaults happen with low-graded loans such as C, D, and E and the highest-graded such as A have the least defaults. The lower the loan is, the more risk it holds and therefore the more unlikely it is that it will get repaid by the borrower. However, there are several other factors that affect whether a loan will be paid for or not, so it is not very surprising to see that we have B grade loans in 4th place of most defaults and G last place. For example, it is possible that not a lot of Grade G loans were issued to begin with, precisely because of their high risk, and therefore they do not represent a very significant percentage of the defaulted loans."
      ],
      "metadata": {
        "id": "OWKk_EGxcNo-"
      }
    },
    {
      "cell_type": "code",
      "metadata": {
        "id": "K1GsMzwlC9bh",
        "colab": {
          "base_uri": "https://localhost:8080/",
          "height": 671
        },
        "outputId": "aee43347-3b31-4a21-c164-3ee6d783bfc0"
      },
      "source": [
        "# Compare home_ownership of Default loans\n",
        "# Question 6: Explain your finding\n",
        "## Similar SQL code from pervious section\n",
        "spark.sql(\"select home_ownership, count(*) from club_loans \\\n",
        "where loan_status = 'Default'  group by home_ownership order by count(*) DESC\").show()\n",
        "default_home_ownership = spark.sql(\"select home_ownership, count(*) from club_loans \\\n",
        "where loan_status = 'Default'  group by home_ownership order by count(*) DESC\")\n",
        "default_home_ownership_pd = default_home_ownership.toPandas()\n",
        "s6 = sns.barplot(x=default_home_ownership_pd['home_ownership'], y=default_home_ownership_pd[\"count(1)\"], capsize=.2)\n",
        "s6.set_xticklabels(s6.get_xticklabels(),rotation=90)"
      ],
      "execution_count": null,
      "outputs": [
        {
          "output_type": "stream",
          "name": "stdout",
          "text": [
            "+--------------+--------+\n",
            "|home_ownership|count(1)|\n",
            "+--------------+--------+\n",
            "|          RENT|     611|\n",
            "|      MORTGAGE|     498|\n",
            "|           OWN|     110|\n",
            "+--------------+--------+\n",
            "\n"
          ]
        },
        {
          "output_type": "execute_result",
          "data": {
            "text/plain": [
              "[Text(0, 0, 'RENT'), Text(1, 0, 'MORTGAGE'), Text(2, 0, 'OWN')]"
            ]
          },
          "metadata": {},
          "execution_count": 17
        },
        {
          "output_type": "display_data",
          "data": {
            "text/plain": [
              "<Figure size 640x480 with 1 Axes>"
            ],
            "image/png": "[encoded data removed]"
          },
          "metadata": {}
        }
      ]
    },
    {
      "cell_type": "markdown",
      "source": [
        "## **Question 6:** Compare home_ownership of default loans. Explain your findings.\n",
        "\n",
        "We have three categories for the status of home ownership of the borrowers that defaulted, they were either renting their home, they had a mortgage, or the house was completely theirs. We can see that for the most part, 611 borrowers were renting the homes they were living in at the time they requested the loans. This was followed by those borrowers who had a morgage on their house, which represented a total of 498 borrowers. Finally, only 110 borrowers had a house of that completely belonged to them. Here are the percentages each category represented for the defaulted loans:\n",
        "\n",
        "**· Rent:** 50.12%\n",
        "\n",
        "**· Mortgage:** 40.85%\n",
        "\n",
        "**· Own:** 9.02%\n",
        "\n",
        "This makes perfect sense with what the theory states. Having a mortgage or renting a house represent significant expenses and debt in a person's budget and personal finances. People who have a house of their own do not have to worry about this type of expenses and have therefore a higher level of available income to repay the loans they request. On the other hand, people that are still making payments for their residences have a lower level of available income to repay their loans. This is why it is not surprising that borrowers with their own residence had a lower level of loan default than those who were renting or paying a financial entity for their home."
      ],
      "metadata": {
        "id": "eicPdSUscZuT"
      }
    },
    {
      "cell_type": "code",
      "metadata": {
        "id": "XhL8fm6tD8wQ",
        "colab": {
          "base_uri": "https://localhost:8080/"
        },
        "outputId": "fe1d9e7a-b064-4502-a274-1af877caf537"
      },
      "source": [
        "# Compare home_ownership,grade,addr_state,verification_status, emp_length of Default loans\n",
        "# Question 7: Explain your finding\n",
        "print(\"All\")\n",
        "spark.sql(\"select home_ownership, grade, addr_state, verification_status, emp_length, count(*) from club_loans\\\n",
        " where loan_status = 'Default'  group by home_ownership, grade, addr_state, verification_status, emp_length order by count(*) DESC\").show()\n",
        "\n",
        "print(\"Home Ownership\")\n",
        "spark.sql(\"select home_ownership, count(*) from club_loans\\\n",
        " where loan_status = 'Default'  group by home_ownership order by count(*) DESC\").show()\n",
        "\n",
        "print(\"Grade\")\n",
        "spark.sql(\"select grade, count(*) from club_loans\\\n",
        " where loan_status = 'Default'  group by grade order by count(*) DESC\").show()\n",
        "\n",
        "print(\"Address State\")\n",
        "spark.sql(\"select addr_state, count(*) from club_loans\\\n",
        " where loan_status = 'Default'  group by addr_state order by count(*) DESC\").show(60)\n",
        "\n",
        "print(\"Verification Status\")\n",
        "spark.sql(\"select verification_status, count(*) from club_loans\\\n",
        " where loan_status = 'Default'  group by verification_status order by count(*) DESC\").show()\n",
        "\n",
        "print(\"Emp Length\")\n",
        "spark.sql(\"select emp_length, count(*) from club_loans\\\n",
        " where loan_status = 'Default'  group by emp_length order by count(*) DESC\").show()"
      ],
      "execution_count": null,
      "outputs": [
        {
          "output_type": "stream",
          "name": "stdout",
          "text": [
            "All\n",
            "+--------------+-----+----------+-------------------+----------+--------+\n",
            "|home_ownership|grade|addr_state|verification_status|emp_length|count(1)|\n",
            "+--------------+-----+----------+-------------------+----------+--------+\n",
            "|          RENT|    C|        CA|           Verified| 10+ years|      10|\n",
            "|          RENT|    C|        CA|    Source Verified| 10+ years|       8|\n",
            "|          RENT|    D|        CA|           Verified| 10+ years|       7|\n",
            "|          RENT|    D|        CA|    Source Verified| 10+ years|       5|\n",
            "|      MORTGAGE|    C|        NY|    Source Verified| 10+ years|       4|\n",
            "|      MORTGAGE|    E|        PA|           Verified| 10+ years|       4|\n",
            "|          RENT|    B|        CA|       Not Verified| 10+ years|       4|\n",
            "|      MORTGAGE|    C|        CA|           Verified| 10+ years|       4|\n",
            "|          RENT|    C|        NY|    Source Verified| 10+ years|       4|\n",
            "|          RENT|    D|        CA|           Verified|    1 year|       3|\n",
            "|          RENT|    C|        CA|       Not Verified| 10+ years|       3|\n",
            "|      MORTGAGE|    D|        CA|    Source Verified|   8 years|       3|\n",
            "|          RENT|    D|        NY|    Source Verified|   9 years|       3|\n",
            "|          RENT|    E|        CA|           Verified|   7 years|       3|\n",
            "|          RENT|    E|        CA|           Verified|    1 year|       3|\n",
            "|      MORTGAGE|    C|        IL|           Verified| 10+ years|       3|\n",
            "|          RENT|    C|        FL|           Verified| 10+ years|       3|\n",
            "|          RENT|    C|        NY|           Verified| 10+ years|       3|\n",
            "|      MORTGAGE|    C|        TX|       Not Verified| 10+ years|       3|\n",
            "|          RENT|    E|        NY|    Source Verified|   3 years|       3|\n",
            "+--------------+-----+----------+-------------------+----------+--------+\n",
            "only showing top 20 rows\n",
            "\n",
            "Home Ownership\n",
            "+--------------+--------+\n",
            "|home_ownership|count(1)|\n",
            "+--------------+--------+\n",
            "|          RENT|     611|\n",
            "|      MORTGAGE|     498|\n",
            "|           OWN|     110|\n",
            "+--------------+--------+\n",
            "\n",
            "Grade\n",
            "+-----+--------+\n",
            "|grade|count(1)|\n",
            "+-----+--------+\n",
            "|    C|     360|\n",
            "|    D|     312|\n",
            "|    E|     201|\n",
            "|    B|     198|\n",
            "|    F|      79|\n",
            "|    A|      47|\n",
            "|    G|      22|\n",
            "+-----+--------+\n",
            "\n",
            "Address State\n",
            "+----------+--------+\n",
            "|addr_state|count(1)|\n",
            "+----------+--------+\n",
            "|        CA|     211|\n",
            "|        TX|     111|\n",
            "|        NY|     106|\n",
            "|        FL|      95|\n",
            "|        NJ|      49|\n",
            "|        OH|      40|\n",
            "|        PA|      39|\n",
            "|        AZ|      39|\n",
            "|        GA|      36|\n",
            "|        NC|      33|\n",
            "|        MI|      32|\n",
            "|        VA|      29|\n",
            "|        MA|      29|\n",
            "|        IL|      28|\n",
            "|        NV|      27|\n",
            "|        CO|      25|\n",
            "|        MD|      23|\n",
            "|        TN|      22|\n",
            "|        WA|      22|\n",
            "|        MN|      20|\n",
            "|        IN|      19|\n",
            "|        LA|      18|\n",
            "|        MO|      16|\n",
            "|        SC|      15|\n",
            "|        KY|      15|\n",
            "|        WI|      14|\n",
            "|        AL|       9|\n",
            "|        CT|       8|\n",
            "|        NM|       8|\n",
            "|        UT|       8|\n",
            "|        AR|       8|\n",
            "|        HI|       8|\n",
            "|        OK|       8|\n",
            "|        OR|       8|\n",
            "|        MT|       6|\n",
            "|        WV|       6|\n",
            "|        KS|       5|\n",
            "|        RI|       5|\n",
            "|        DE|       5|\n",
            "|        MS|       4|\n",
            "|        NH|       3|\n",
            "|        DC|       2|\n",
            "|        AK|       2|\n",
            "|        WY|       1|\n",
            "|        VT|       1|\n",
            "|        SD|       1|\n",
            "+----------+--------+\n",
            "\n",
            "Verification Status\n",
            "+-------------------+--------+\n",
            "|verification_status|count(1)|\n",
            "+-------------------+--------+\n",
            "|           Verified|     479|\n",
            "|    Source Verified|     462|\n",
            "|       Not Verified|     278|\n",
            "+-------------------+--------+\n",
            "\n",
            "Emp Length\n",
            "+----------+--------+\n",
            "|emp_length|count(1)|\n",
            "+----------+--------+\n",
            "| 10+ years|     375|\n",
            "|   3 years|     104|\n",
            "|    1 year|      95|\n",
            "|  < 1 year|      89|\n",
            "|   2 years|      86|\n",
            "|   5 years|      77|\n",
            "|   8 years|      73|\n",
            "|       n/a|      71|\n",
            "|   7 years|      71|\n",
            "|   4 years|      66|\n",
            "|   6 years|      63|\n",
            "|   9 years|      49|\n",
            "+----------+--------+\n",
            "\n"
          ]
        }
      ]
    },
    {
      "cell_type": "markdown",
      "source": [
        "## **Question 7:** Compare home_ownership, grade, addr_state, verification_status, emp_length of Default loans. Explain your findings.\n",
        "\n",
        "*(Home ownership and grade have been compared in the previous questions)*\n",
        "\n",
        "When combining all these factors together, we can see that the combination of C grade loans, with borrowers living in California that were renting their house, verified status, and employment length of 10+ years, was the combination that had the highest loan default count, 10. \n",
        "\n",
        "We will now compare each category separately. Starting with address state, we see that the state with the most loan defaults from 2007 to 2015 was California with 211 defaulted loans. Texas followed this with 111 defaulted loans. New York was next with 106 defaulted loans. However, researching on this, we found that California, Texas and New York were in the top 4 of most populated states from 2007 to 2015. This led us to believe this states could have had the highest count of loan emissions overall and that it could be influencing the rate of defaults. In other words, we thought that they might have had higher defaults because they had a higher issuance of loans. We executed the code below and found that we were right. Overall, California, New York and Texas were the states that issued the most loans so it makes sense that they had the highest counts of defaults because of this. We observe that Wyoming, Vermont and San Diego had the lowest default counts with only one loan defaulted each.\n",
        "\n",
        "We can compare California's default rate with Wyoming's, for example. Out of all the loans that were issued from 2007 to 2015, California had a default rate of 0.16% while Wyoming had a default rate of 0.05%; less than a third of California's.\n",
        "\n",
        "We now have verification status. This refers to whether the income of the borrower was verified by the Lending Club, not verified or if the income source was verified. We see that most of the defaulted loans were either verified (479) or source verified (462), while only 278 were not verified. We would have expected most of the defaulted loans to be not verified because it would have meant that the loans that were issued with less background check scrutiny were the ones that defaulted the most. However it is true that after the 2008 financial crisis, lenders and financial institutions were more careful with this topic and carried out more and more strict income checks and verifications. This could be the reason why we are not seeing a lot of defaulted loans without verification.\n",
        "\n",
        "Finally we have employment length. This refers to the employment length in years. There does not appear to be any identifiable pattern of distribution in this category. The highest loan default count (375) happened with those borrowers with 10+ years of employment, but then we had the lowest default count (49) for 9 years, and 8 years around the middle of the count ranking (73). Nevertheless, this could be explained by the fact that employment length is not a variable that is really considered when asking the question of whether a borrower is likely to default in their loan payments. There are other factors more relevant such as their income or their debt levels."
      ],
      "metadata": {
        "id": "xxWKnQitc9M8"
      }
    },
    {
      "cell_type": "code",
      "source": [
        "print(\"Address State\")\n",
        "spark.sql(\"select addr_state, count(*) from club_loans\\\n",
        " group by addr_state order by count(*) DESC\").show(60)"
      ],
      "metadata": {
        "colab": {
          "base_uri": "https://localhost:8080/"
        },
        "id": "1xP328GbWviI",
        "outputId": "db53181a-ef87-49c6-d7a7-ce5da24186cd"
      },
      "execution_count": null,
      "outputs": [
        {
          "output_type": "stream",
          "name": "stdout",
          "text": [
            "Address State\n",
            "+----------+--------+\n",
            "|addr_state|count(1)|\n",
            "+----------+--------+\n",
            "|        CA|  129517|\n",
            "|        NY|   74086|\n",
            "|        TX|   71138|\n",
            "|        FL|   60935|\n",
            "|        IL|   35476|\n",
            "|        NJ|   33256|\n",
            "|        PA|   31393|\n",
            "|        OH|   29631|\n",
            "|        GA|   29085|\n",
            "|        VA|   26255|\n",
            "|        NC|   24720|\n",
            "|        MI|   22985|\n",
            "|        MD|   21031|\n",
            "|        MA|   20593|\n",
            "|        AZ|   20412|\n",
            "|        WA|   19434|\n",
            "|        CO|   18807|\n",
            "|        MN|   15957|\n",
            "|        MO|   14207|\n",
            "|        IN|   13789|\n",
            "|        CT|   13531|\n",
            "|        TN|   12887|\n",
            "|        NV|   12443|\n",
            "|        WI|   11574|\n",
            "|        AL|   11200|\n",
            "|        OR|   10893|\n",
            "|        SC|   10639|\n",
            "|        LA|   10587|\n",
            "|        KY|    8550|\n",
            "|        OK|    8085|\n",
            "|        KS|    7926|\n",
            "|        AR|    6640|\n",
            "|        UT|    6264|\n",
            "|        NM|    4939|\n",
            "|        HI|    4570|\n",
            "|        WV|    4386|\n",
            "|        NH|    4294|\n",
            "|        RI|    3893|\n",
            "|        MS|    3819|\n",
            "|        MT|    2558|\n",
            "|        DE|    2511|\n",
            "|        DC|    2432|\n",
            "|        AK|    2205|\n",
            "|        WY|    2028|\n",
            "|        SD|    1815|\n",
            "|        VT|    1797|\n",
            "|        NE|    1176|\n",
            "|        ME|     525|\n",
            "|        ND|     479|\n",
            "|        IA|      14|\n",
            "|        ID|      12|\n",
            "|         0|       1|\n",
            "|      null|       1|\n",
            "+----------+--------+\n",
            "\n"
          ]
        }
      ]
    },
    {
      "cell_type": "code",
      "source": [
        "# Question 8:  Create barchart of Median Loan Amount, grouped by grade, Explain your finding\n",
        "spark.sql(\"SELECT grade, PERCENTILE_CONT(0.5) WITHIN GROUP (ORDER BY loan_amnt) AS median_loan_amnt FROM club_loans WHERE loan_status = 'Default' GROUP BY grade ORDER BY median_loan_amnt DESC\").show()\n",
        "loan_amntgroup = spark.sql(\"SELECT grade, PERCENTILE_CONT(0.5) WITHIN GROUP (ORDER BY loan_amnt) AS median_loan_amnt FROM club_loans WHERE loan_status = 'Default' GROUP BY grade ORDER BY median_loan_amnt DESC\").toPandas()\n",
        "s3 = sns.barplot(x=loan_amntgroup['grade'], y=loan_amntgroup[\"median_loan_amnt\"], capsize=.2)\n",
        "s3.set_xticklabels(s3.get_xticklabels(), rotation=90)"
      ],
      "metadata": {
        "colab": {
          "base_uri": "https://localhost:8080/",
          "height": 776
        },
        "id": "vXDv7a3FhwSy",
        "outputId": "e626cf10-76a2-43b4-d0f9-8a7139f89d8d"
      },
      "execution_count": null,
      "outputs": [
        {
          "output_type": "stream",
          "name": "stdout",
          "text": [
            "+-----+----------------+\n",
            "|grade|median_loan_amnt|\n",
            "+-----+----------------+\n",
            "|    F|         15875.0|\n",
            "|    G|         15862.5|\n",
            "|    E|         15200.0|\n",
            "|    D|         15000.0|\n",
            "|    A|         14400.0|\n",
            "|    C|         12000.0|\n",
            "|    B|         11750.0|\n",
            "+-----+----------------+\n",
            "\n"
          ]
        },
        {
          "output_type": "execute_result",
          "data": {
            "text/plain": [
              "[Text(0, 0, 'F'),\n",
              " Text(1, 0, 'G'),\n",
              " Text(2, 0, 'E'),\n",
              " Text(3, 0, 'D'),\n",
              " Text(4, 0, 'A'),\n",
              " Text(5, 0, 'C'),\n",
              " Text(6, 0, 'B')]"
            ]
          },
          "metadata": {},
          "execution_count": 20
        },
        {
          "output_type": "display_data",
          "data": {
            "text/plain": [
              "<Figure size 640x480 with 1 Axes>"
            ],
            "image/png": "[encoded data removed]"
          },
          "metadata": {}
        }
      ]
    },
    {
      "cell_type": "markdown",
      "source": [
        "## **Question 8:** Create barchart of median loan amount, group by grade. Explain your findings.\n",
        "\n",
        "*(Following the nature of the previous queries and of the task in general, we are considering we are being asked to obtain this information for those loans that defaulted)*\n",
        "\n",
        "The barchart above shows the median of the defaulted loans amounts grouped by their grades. As we have explained before, the median is a central tendency measure that is unaffected by outliers in the data. This makes it in certain cases, including this one, a more reliable measure of central tendency. We see that the grade F loans had the greatest worth and that they were very similar to those of grade G. The median of value of a F defaulted loan was 15,875.00 dollars while for the G-graded it was 15,862.50 dollars. E-graded and D-graded defaulted loans also had similar median loan amounts, 15,200.00 dollars and 15,000.00 dollars respectively. B-graded defaulted  loans were the ones with the lowest loan amount, 11,750.00 dollars."
      ],
      "metadata": {
        "id": "JJuN-dXSdSdC"
      }
    },
    {
      "cell_type": "code",
      "source": [
        "# Question 9:  Create Boxplots of Interest rate, grouped by issue grade, Explain your finding\n",
        "\n",
        "spark.sql(\"SELECT grade, int_rate FROM club_loans ORDER BY grade\")\n",
        "A_grade_rates = spark.sql(\"SELECT grade, int_rate FROM club_loans WHERE grade = 'A' AND loan_status = 'Default'\").toPandas()\n",
        "B_grade_rates = spark.sql(\"SELECT grade, int_rate FROM club_loans WHERE grade = 'B' AND loan_status = 'Default'\").toPandas()\n",
        "C_grade_rates = spark.sql(\"SELECT grade, int_rate FROM club_loans WHERE grade = 'C' AND loan_status = 'Default'\").toPandas()\n",
        "D_grade_rates = spark.sql(\"SELECT grade, int_rate FROM club_loans WHERE grade = 'D' AND loan_status = 'Default'\").toPandas()\n",
        "E_grade_rates = spark.sql(\"SELECT grade, int_rate FROM club_loans WHERE grade = 'E' AND loan_status = 'Default'\").toPandas()\n",
        "F_grade_rates = spark.sql(\"SELECT grade, int_rate FROM club_loans WHERE grade = 'F' AND loan_status = 'Default'\").toPandas()\n",
        "G_grade_rates = spark.sql(\"SELECT grade, int_rate FROM club_loans WHERE grade = 'G' AND loan_status = 'Default'\").toPandas()\n",
        "\n",
        "A_grade_rates['int_rate'] = A_grade_rates['int_rate'].astype(float)\n",
        "B_grade_rates['int_rate'] = B_grade_rates['int_rate'].astype(float)\n",
        "C_grade_rates['int_rate'] = C_grade_rates['int_rate'].astype(float)\n",
        "D_grade_rates['int_rate'] = D_grade_rates['int_rate'].astype(float)\n",
        "E_grade_rates['int_rate'] = E_grade_rates['int_rate'].astype(float)\n",
        "F_grade_rates['int_rate'] = F_grade_rates['int_rate'].astype(float)\n",
        "G_grade_rates['int_rate'] = G_grade_rates['int_rate'].astype(float)\n",
        "\n",
        "fig, axs = plt.subplots(ncols=7, figsize=(20, 5))\n",
        "\n",
        "sns.boxplot(x='grade', y='int_rate', data=A_grade_rates, ax=axs[0])\n",
        "sns.boxplot(x='grade', y='int_rate', data=B_grade_rates, ax=axs[1])\n",
        "sns.boxplot(x='grade', y='int_rate', data=C_grade_rates, ax=axs[2])\n",
        "sns.boxplot(x='grade', y='int_rate', data=D_grade_rates, ax=axs[3])\n",
        "sns.boxplot(x='grade', y='int_rate', data=E_grade_rates, ax=axs[4])\n",
        "sns.boxplot(x='grade', y='int_rate', data=F_grade_rates, ax=axs[5])\n",
        "sns.boxplot(x='grade', y='int_rate', data=G_grade_rates, ax=axs[6])"
      ],
      "metadata": {
        "colab": {
          "base_uri": "https://localhost:8080/",
          "height": 272
        },
        "id": "FpSFWddI8vxz",
        "outputId": "225080d9-3370-4776-a7a2-a10a96facf9f"
      },
      "execution_count": null,
      "outputs": [
        {
          "output_type": "execute_result",
          "data": {
            "text/plain": [
              "<Axes: xlabel='grade', ylabel='int_rate'>"
            ]
          },
          "metadata": {},
          "execution_count": 22
        },
        {
          "output_type": "display_data",
          "data": {
            "text/plain": [
              "<Figure size 2000x500 with 7 Axes>"
            ],
            "image/png": "[encoded data removed]"
          },
          "metadata": {}
        }
      ]
    },
    {
      "cell_type": "markdown",
      "source": [
        "## **Question 9:** Create boxplots of interest rate, grouped by issue grade. Explain your findings.\n",
        "\n",
        "*(Following the nature of the previous queries and of the task in general, we are considering we are being asked to obtain this information for those loans that defaulted)*\n",
        "\n",
        "Above are the boxplots of the interest rates across the different grades of the loans. Boxplots are a diagrams that represent the statistical description of a particular variable. The diagram is composed by a box (part in blue) and by two whiskers (the lines). The end of the whiskers represent the minimum and maximum of the variable. The whole box represents the interquartile range. The lower limit of the box represents the first quartile, while the upper limit represents the third quartile. The line inside the box represents the median. 25% of the data fall between the lower end of the whisker and the lower limit of the box, 25% of the data falls between the lower limit of the box and the median, 25% of the data falls between the median and the upper limit of the box, and the last 25% of the data falls between the upper limit of the box and the upper end of the whisker. Any dot outside the whiskers of the diagram are outliers.\n",
        "\n",
        "We can see that only defaulted loans with grade D and G have interest rate outliers. D-graded defaulted loans' outliers fall near to the maximum. On the other hand, G-graded defaulted loans' outlier falls very far to the maximum. While the maximum interest rate in the grade G is around 16.15%, the outlier is around 28% (11.85 percentage points more).\n",
        "\n",
        "We find that as grades progress in riskiness (from A, less risky, to G, more risky), the interest rates increase overall. Grade A's minimum interest rate was around 6.3%, B's around 8.2%, C's around 12.3%, D's around 15.0%, E's around 18.3%, F's around 22.0%, and G's around 26.8%. The maximum interest rates follow a similar pattern. The lowest interest rate of the defaulted loans corresponded to grade A with 6.3%, while the highest corresponded to the above mentioned grade G with 28% (a difference of 21.7%). Not counting the outlier, the overal maximum would be grade G's 26.1% interest rate (a difference of 19.8%).\n",
        "\n",
        "As explained before, the lines inside the boxes represent the medians. With this, we can say that for grade A, the defaulted loans' median interest rate was around 7.9%, for B 11.5%, for C 14.2%, for D 17.2%, for E 20.0%, for F 24.0%, and finally for G, 25.9%. This is, a rise of 3% on average as the grades advanced one grade.\n",
        "\n",
        "This increase in interest rates as riskiness (grades) increase, is consistent with the theory. The lenders are taking a higher risk by issuing loans with grades such as D, E, F, or G. To compensate for them taking on more risk, the market must reward them with a higher return. Lenders do not have strong enough incentives to issue loans with small interest rates to risky borrowers as their payoff in case that they do not default would be small relative to the risk they took on. For this reason, risky loans are associated with higher interest rates; to be rewarded for their risk-taking if the borrowers do not default."
      ],
      "metadata": {
        "id": "zygEYEIVdlX1"
      }
    },
    {
      "cell_type": "code",
      "metadata": {
        "id": "BjfP3l6tEIc3",
        "colab": {
          "base_uri": "https://localhost:8080/"
        },
        "outputId": "ac0f58f2-df2c-478a-fd3f-0d34b39636a4"
      },
      "source": [
        "# Question 10: Write your own SQL code to identify default loan, Explain your finding\n",
        "spark.sql(\"SELECT * FROM club_loans WHERE loan_status = 'Default'\").show(5)\n",
        "\n",
        "print(\"Loan Characteristics\")\n",
        "spark.sql(\"SELECT PERCENTILE_CONT(0.5) WITHIN GROUP (ORDER BY loan_amnt) AS median_loan_amnt \\\n",
        ", PERCENTILE_CONT(0.5) WITHIN GROUP (ORDER BY funded_amnt) AS median_funded_amnt \\\n",
        ", (SELECT term FROM club_loans WHERE loan_status = 'Default' GROUP BY term ORDER BY COUNT(*) DESC LIMIT 1) AS mode_term \\\n",
        ", PERCENTILE_CONT(0.5) WITHIN GROUP (ORDER BY int_rate) AS median_int_rate \\\n",
        ", PERCENTILE_CONT(0.5) WITHIN GROUP (ORDER BY installment) AS median_installment \\\n",
        ", (SELECT grade FROM club_loans WHERE loan_status = 'Default' GROUP BY grade ORDER BY COUNT(*) DESC LIMIT 1) AS mode_grade \\\n",
        ", (SELECT sub_grade FROM club_loans WHERE loan_status = 'Default' GROUP BY sub_grade ORDER BY COUNT(*) DESC LIMIT 1) AS mode_sub_grade \\\n",
        "FROM club_loans WHERE loan_status = 'Default'\").show()\n",
        "\n",
        "print(\"Person Characteristics\")\n",
        "spark.sql(\"SELECT (SELECT home_ownership FROM club_loans WHERE loan_status = 'Default' GROUP BY home_ownership ORDER BY COUNT(*) DESC LIMIT 1) AS mode_home_ownership \\\n",
        "    , PERCENTILE_CONT(0.5) WITHIN GROUP (ORDER BY annual_inc) AS median_annual_inc \\\n",
        "    , (SELECT verification_status FROM club_loans WHERE loan_status = 'Default' GROUP BY verification_status ORDER BY COUNT(*) DESC LIMIT 1) AS mode_verification_status \\\n",
        "FROM club_loans WHERE loan_status = 'Default'\").show()\n",
        "\n",
        "print(\"Record Characteristics\")\n",
        "spark.sql(\"SELECT (SELECT pub_rec FROM club_loans WHERE loan_status = 'Default' GROUP BY pub_rec ORDER BY COUNT(*) DESC LIMIT 1) AS mode_pub_rec \\\n",
        ", (SELECT delinq_2yrs FROM club_loans WHERE loan_status = 'Default' GROUP BY delinq_2yrs ORDER BY COUNT(*) DESC LIMIT 1) AS mode_delinq_2yrs \\\n",
        ", (SELECT open_acc FROM club_loans WHERE loan_status = 'Default' GROUP BY open_acc ORDER BY COUNT(*) DESC LIMIT 1) AS mode_open_acc \\\n",
        ", PERCENTILE_CONT(0.5) WITHIN GROUP (ORDER BY acc_now_delinq) AS median_acc_now_delinq \\\n",
        "    FROM club_loans WHERE loan_status = 'Default'\").show()"
      ],
      "execution_count": null,
      "outputs": [
        {
          "output_type": "stream",
          "name": "stdout",
          "text": [
            "+-------+---------+---------+-----------+---------------+----------+--------+-----------+-----+---------+----------+--------------+----------+-------------------+-------+-----------+--------+----------+-----+-----------+----------------+--------------+----------------------+--------+-------+---------+----------+---------+-------------------+---------+-------------+-----------+---------------+---------------+-------------+------------------+----------+-----------------------+------------+---------------+------------+------------------+--------------------------+---------------------------+-----------+--------------+----+----+----+\n",
            "|     id|member_id|loan_amnt|funded_amnt|funded_amnt_inv|      term|int_rate|installment|grade|sub_grade|emp_length|home_ownership|annual_inc|verification_status|issue_d|loan_status|zip_code|addr_state|  dti|delinq_2yrs|earliest_cr_line|inq_last_6mths|mths_since_last_delinq|open_acc|pub_rec|revol_bal|revol_util|total_acc|initial_list_status|out_prncp|out_prncp_inv|total_pymnt|total_pymnt_inv|total_rec_prncp|total_rec_int|total_rec_late_fee|recoveries|collection_recovery_fee|last_pymnt_d|last_pymnt_amnt|next_pymnt_d|last_credit_pull_d|collections_12_mths_ex_med|mths_since_last_major_derog|policy_code|acc_now_delinq|_c46|_c47|_c48|\n",
            "+-------+---------+---------+-----------+---------------+----------+--------+-----------+-----+---------+----------+--------------+----------+-------------------+-------+-----------+--------+----------+-----+-----------+----------------+--------------+----------------------+--------+-------+---------+----------+---------+-------------------+---------+-------------+-----------+---------------+---------------+-------------+------------------+----------+-----------------------+------------+---------------+------------+------------------+--------------------------+---------------------------+-----------+--------------+----+----+----+\n",
            "|1062399|  1294261|    18000|      18000|          17975| 60 months|   17.27|     449.97|    D|       D3|    1 year|      MORTGAGE|     62000|           Verified| 11-Dec|    Default|   234xx|        VA| 7.82|          0|          Aug-88|             2|                    61|       8|      0|    11273|      86.7|       30|                  f|  6405.39|      6396.45|   19767.48|       19740.11|       11594.61|      8172.87|                 0|         0|                      0|      15-Aug|         449.97|      16-Feb|            16-Jan|                         0|                       null|          1|             0|null|null|null|\n",
            "| 879297|  1094167|    21250|      21250|    21003.60405| 60 months|   14.27|     497.43|    C|       C2|   5 years|          RENT|     36000|           Verified| 11-Sep|    Default|   917xx|        CA|21.07|          0|          Oct-98|             0|                  null|      20|      0|    16753|      40.9|       25|                  f|  5979.46|      5972.37|   23343.83|       22895.16|       15270.52|      8073.31|                 0|         0|                      0|      15-Aug|         497.43|      16-Feb|            16-Jan|                         0|                       null|          1|             0|null|null|null|\n",
            "| 809235|  1016031|     5600|       5600|           5600| 60 months|   15.99|     136.16|    D|       D2|   8 years|          RENT|     52416|    Source Verified| 11-Jul|    Default|   957xx|        CA|19.78|          0|           3-Oct|             2|                    79|       8|      0|     1258|      28.6|       13|                  f|  1399.77|      1399.77|    6643.32|        6643.32|        4200.23|      2443.09|                 0|         0|                      0|      15-Aug|         136.16|      16-Feb|            16-Jan|                         0|                       null|          1|             0|null|null|null|\n",
            "| 782572|   985575|    15975|      15975|          15975| 60 months|   20.99|     432.09|    E|       E5|   8 years|      MORTGAGE|    225000|           Verified| 11-Jun|    Default|   773xx|        TX| 5.71|          0|          Sep-99|             1|                    45|      10|      0|    10852|      80.5|       27|                  f|  3957.98|      3957.98|    21550.1|        21550.1|       12017.02|      9533.08|                 0|         0|                      0|      15-Aug|         432.09|      16-Feb|            16-Jan|                         0|                       null|          1|             0|null|null|null|\n",
            "| 775378|   977625|     5000|       5000|           5000| 60 months|   15.99|     121.57|    D|       D2| 10+ years|          RENT|     65004|    Source Verified| 11-Jun|    Default|   065xx|        CT| 3.43|          2|          Nov-96|             1|                    15|      15|      1|     2274|      25.8|       33|                  f|  1147.65|      1147.65|     6048.1|         6048.1|        3852.35|      2195.75|                 0|         0|                      0|      15-Aug|         121.57|      16-Feb|            16-Jan|                         0|                       null|          1|             0|null|null|null|\n",
            "+-------+---------+---------+-----------+---------------+----------+--------+-----------+-----+---------+----------+--------------+----------+-------------------+-------+-----------+--------+----------+-----+-----------+----------------+--------------+----------------------+--------+-------+---------+----------+---------+-------------------+---------+-------------+-----------+---------------+---------------+-------------+------------------+----------+-----------------------+------------+---------------+------------+------------------+--------------------------+---------------------------+-----------+--------------+----+----+----+\n",
            "only showing top 5 rows\n",
            "\n",
            "Loan Characteristics\n",
            "+----------------+------------------+----------+---------------+------------------+----------+--------------+\n",
            "|median_loan_amnt|median_funded_amnt| mode_term|median_int_rate|median_installment|mode_grade|mode_sub_grade|\n",
            "+----------------+------------------+----------+---------------+------------------+----------+--------------+\n",
            "|         13675.0|           13675.0| 36 months|          15.99|            401.39|         C|            C2|\n",
            "+----------------+------------------+----------+---------------+------------------+----------+--------------+\n",
            "\n",
            "Person Characteristics\n",
            "+-------------------+-----------------+------------------------+\n",
            "|mode_home_ownership|median_annual_inc|mode_verification_status|\n",
            "+-------------------+-----------------+------------------------+\n",
            "|               RENT|          56000.0|                Verified|\n",
            "+-------------------+-----------------+------------------------+\n",
            "\n",
            "Record Characteristics\n",
            "+------------+----------------+-------------+---------------------+\n",
            "|mode_pub_rec|mode_delinq_2yrs|mode_open_acc|median_acc_now_delinq|\n",
            "+------------+----------------+-------------+---------------------+\n",
            "|           0|               0|           10|                  0.0|\n",
            "+------------+----------------+-------------+---------------------+\n",
            "\n"
          ]
        }
      ]
    },
    {
      "cell_type": "markdown",
      "source": [
        "## **Question 10:** Write your own SQL code to identify default loan. Explain your findings.\n",
        "\n",
        "The first table on the output presents the first 5 rows of loans that defaulted out of the total of 1,219. We have then selected some of the columns that could give the greater insight to identify defaulted loans according to theory and arranged them in three main categories: characteristics of the issued loan, characteristics of the borrower who requested the loan, and the financial records of the borrower.\n",
        "\n",
        "In the category Loan Characteristics we have taken into account the loan amount, the funded amount, the term, the interest rate, the installment, the grade, and the sub grade. For these characteristics, we have obtained the appropriate central tendency measures. By this we mean we have obtained either the median in the case of continous variables (because of robustness) or the mode in the case of discrete variables. Starting with loan amount, we see that the central value of the loans worth that was requested and defaulted was 13,675 dollars. Comparing this with the funded amount (the actual amount that the lender granted the borrower), we see that this is the same. We believe this implies that before the borrowers defaulted, the lenders believed in the borrowers' ability to repay the loans and therefore gave them the total amount they were requesting. \n",
        "\n",
        "Speaking now of the term, which refers to the number of payments in which it was agreed to repay the loan, it is visible that the mode was 36 terms. We find this interesting because according to the dataset dictionary, this is the lowest amount of terms that a lender could give the borrower to repay. If the lender suspected the borrower might not have been able to pay their loan, it would make sense to give them the longest amount of time possible to repay it; that is, give the borrower the chance to make smaller payments but over a longer period of time in order to make it easier for them to repay it. However, as it is not the case, this is another indication that the lenders did not anticipate the borrowers of the defaulted loans to not repay their loans. \n",
        "\n",
        "In terms of interest rate, we see that the median was 15.99%. If we compare this with the average 30-year fixed mortgage rate in the United States from 2007-2015 which was 4-5%, we could say that this is relatively high. This might have been a factor that made the borrowers default on their loans because that means they would have had to pay at least 2,186.63 dollars just from interests (considering a 13,675 dollars loan with an interest rate of 15.99%). \n",
        "\n",
        "We see that the median installment required per term was 401.39 dollars, which is consistent with the median funded amount and the mode of 36 months. As we saw in question 3, some of the people who defaulted in their loans had an annual income of around 10,000 dollars. This would mean that they made 833.33 dollars per month. Having to pay 401.39 dollars would mean that they would have to give up almost half of their monthly income to repay their loans. Considering that most of the borrowers who defaulted did not have a house of their own, this would leave them almost only 431.94 dollars to cover the rest of their monthly expenses which include rent or mortgage payments. Therefore if people with lower income did not have a more flexible payment arrangements for their loan such as lower interest rates, lower installments or higher terms, it would be understandable that they dailed to repay their loans.\n",
        "\n",
        "We explored the risk grades of the defaulted loans in Question 5. We see again that the mode of grade of the defaulted loans was grade C. This is considered a risky loan which makes sense with theory, the more risky a loan is categorized as, the higher the chance the loan will default. We now also have the most popular sub grade among the defaulted loans; C2. To understand what this means, it is necessary to know that the subgrades of grade C range from C1 to C5, with C1 being the less risky among the C grade and C5 the most risky. C2 is around the middle, which means the lenders had reason to be concerned at their borrowers' creditworthiness, since grades and sub-grades are related to how rieky they perceive their income, debt-to-income ratio, credit history, etc. It would therefore have been no surprise that some of the C and C2 graded and sub-graded loans were defaulted.\n",
        "\n",
        "Next, we have the category of Person Characteristics. This category includes the variables of home ownership status, the annual income of the borrower, the verification status, and the number of their public records. We have discussed the home ownership aspect in Question 6. We find again that the mode of home ownership status among those loans that defaulted is rent. As we explained in Question 6, this is consistent with the theory because rent takes up a significant part of a person's income, leaving less of it to repay their loans in comparison to someone that has a home of their own and does not need to make these types of expenses.\n",
        "\n",
        "Annual income has also been discussed previously in in Question 3. The median annual income of the borrowers that defaulted was 56,000.00 dollars, which is 4,666.67 dollars per month. Comparing this median with the median annual income of the whole dataset (including the loans that did not default), 65,000.00 dollars, we see that this is 9,000.00 dollars less. Therefore, we can state that income could be an important parameter to consider if we wished to make a model that could predict loan defaults. Lower annual income could indicate a higher probability of default.\n",
        "\n",
        "At first glance, we could think that the mode of the verification status as 'Verified' could be against the theory; we could expect that loans that defaulted were not checked with scrutiny. However, when we analize this deeper, we can find that the fact that they were verified does not mean that they were risk free. In the case of risky loans, what verified means is simply that the lenders ackowledged that the borrowers might not be able to repay their loans according to their background and the loan characteristics. The fact that the borrowers records were verified, source verified or not verified would therefore have little effect on whether the loan was likely to default or not.\n",
        "\n",
        "The final category is Record Characteristics. First up in this category is pub_rec. This refers to the number of derogatory public records of the borrowers. We can see that the mode was 0. Similar to the previous parameter, at first glance we could have been expecting a significant number of past derogatory public records for the borrowers that defaulted since it would mean that there were priors to those borrowers that indicated that they might default. However, we took on the task to count how many rows did not have a pub_rec=0 in the whole dataset and found that the count was only 135,779 out of a total of 887,381 loans (only 15.30%). This is an indicator that, for the whole population, it is unlikely that a borrower will have a derogatory public record, which, of course, applies in the case of the borrowers that defaulted as well. As so, like in the previous case, we could expect the pub_rec variable not to be very helpful in trying to discern borrowers that defaulted and borrowers that did not. Something similar happens with delinq_2yrs. Out of the 886,381 loans, only 170,390 had a borrower with a delinq_2yrs criteria different than 0 (only 19.20%). delinq_2yrs refers to the number of 30+ days past-due incidences of delinquency in the borrower's credit file for the past two years. Its mode being 0 suggests that the borrowers who defaulted were not faulty borrowers in the past. However it would also be of help to identify how many of these people were requesting a loan or credit for the first time. If it was their first time asking for a loan, it is highly likely that they would not have a delinquency record.\n",
        "\n",
        "Next up, we have the parameter open_acc. We see that the mode of open credit lines in the borrower's credit file for the loans that defaulted is 10. This is one credit line above the mode of the whole dataset, 9. This is in consonance with the theory because a person who has a lot of open credit lines might imply that that person has trouble paying their debts with their own means. This could be an indication of higher likelihood that they will default in their loan payments. However, the difference between 9 and 10 is not very significant and we therefore question the usefulness this criteria could have on a model that intends to predict the borrowers that will default.\n",
        "\n",
        "Finally, there is the criteria of acc_now_delinq which represents the number of accounts on which the borrower is now delinquent. We would expect this parameter to be a useful discriminator of defaulted and not defaulted loans. However, we see that the median is 0. After taking a closer look, we discovered that only 4,115 borrowers (only 0.46%) had an acc_now_delinq parameter different than 0, meaning that there are not a lot of borrowers in the population that have commited financial delinquencies before. According to this data, we again question the usefulness of this parameter.\n",
        "\n",
        "We have previously discussed variables in our dataset that might be useful to generate good predictions on which borrowers are likely to default their loan repayments. Now, we shall discuss some ways in which we can actually do this.\n",
        "\n",
        "**1. Logistic Regression (Machine Learning):** This gives us the probability that a certain borrower will default in their loan payments.\n",
        "\n",
        "**2. Random Forest Model (Machine Learning):** This model takes multiple decision tree models to make a prediction. These models are less likely to be overfitting in comparison with a single decision tree model.\n",
        "\n",
        "**3. Neural Networks (Deep Learning):** Neural networks could identify patterns that lead in the majority of cases to default and pinpoint what these patterns are.\n",
        "\n",
        "**4. Support Vector Machines (Machine Learning):** These could classify the data to say which borrowers are predicted to default.\n",
        "\n",
        "Python is a useful programming language to carry out these predicting methods. On the other hand, SQL is not so much a modelling language as it is a language for managing and exploring relational databases. SQL is more useful to extract and visualize data that could be pertinent to be used in a model, which is precisely what we have done across this project."
      ],
      "metadata": {
        "id": "HqZeVwfTd09q"
      }
    }
  ]
}